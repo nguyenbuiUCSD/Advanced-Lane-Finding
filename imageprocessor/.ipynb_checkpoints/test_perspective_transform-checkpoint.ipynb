{
 "cells": [
  {
   "cell_type": "code",
   "execution_count": 6,
   "metadata": {},
   "outputs": [],
   "source": [
    "from imageprocessor import Imageprocessor\n",
    "import numpy as np\n",
    "import cv2\n",
    "import os\n",
    "import matplotlib.pyplot as plt\n",
    "import matplotlib.image as mpimg\n",
    "%matplotlib inline"
   ]
  },
  {
   "cell_type": "code",
   "execution_count": 7,
   "metadata": {},
   "outputs": [
    {
     "name": "stdout",
     "output_type": "stream",
     "text": [
      "Initializing lane finder ..\n",
      "Done ...\n"
     ]
    }
   ],
   "source": [
    "imageprocessor = Imageprocessor()"
   ]
  },
  {
   "cell_type": "code",
   "execution_count": 8,
   "metadata": {},
   "outputs": [
    {
     "data": {
      "text/plain": [
       "(array([[ -3.77837976e-01,  -1.51829178e+00,   8.77248790e+02],\n",
       "        [ -5.27355937e-15,  -1.87611474e+00,   8.39111427e+02],\n",
       "        [ -6.93889390e-18,  -2.38705092e-03,   1.00000000e+00]]),\n",
       " array([[  1.78999577e-01,  -8.12205147e-01,   5.24503457e+02],\n",
       "        [ -1.11022302e-15,  -5.33016440e-01,   4.47260186e+02],\n",
       "        [ -1.73472348e-18,  -1.27233738e-03,   1.00000000e+00]]))"
      ]
     },
     "execution_count": 8,
     "metadata": {},
     "output_type": "execute_result"
    }
   ],
   "source": [
    "image_top_left = (595,448)\n",
    "image_top_right = (685,448)\n",
    "image_bottom_left = (252, 678)\n",
    "image_bottom_right = (1054,678)\n",
    "\n",
    "birdeye_top_left = (400,20)\n",
    "birdeye_top_right = (890,20)\n",
    "birdeye_bottom_left = (400, 700)\n",
    "birdeye_bottom_right = (890,700)\n",
    "\n",
    "src = np.float32([image_top_left,image_bottom_left,image_top_right,image_bottom_right])\n",
    "dst = np.float32([birdeye_top_left,birdeye_bottom_left,birdeye_top_right,birdeye_bottom_right])\n",
    "imageprocessor.set_perspective_transform(src,dst)"
   ]
  },
  {
   "cell_type": "code",
   "execution_count": null,
   "metadata": {},
   "outputs": [],
   "source": [
    "image = mpimg.imread(\"../test_images/straight_lines1.jpg\")\n",
    "warped = imageprocessor.perspective_transform(image)\n",
    "cv2.line(image,image_top_left,image_bottom_left, [255, 0, 0], 2)\n",
    "cv2.line(image,image_top_right,image_bottom_right, [255, 0, 0], 2)\n",
    "cv2.line(warped,birdeye_top_left,birdeye_bottom_left, [255, 0, 0], 2)\n",
    "cv2.line(warped,birdeye_top_right,birdeye_bottom_right, [255, 0, 0], 2)\n",
    "\n",
    "f, (ax11, ax12) = plt.subplots(1, 2, figsize=(40,20))\n",
    "ax11.imshow(image)\n",
    "ax11.set_title('Original Image', fontsize=30)\n",
    "ax12.imshow(warped)\n",
    "ax12.set_title('Perspective Transform', fontsize=30)\n",
    "plt.show()"
   ]
  }
 ],
 "metadata": {
  "kernelspec": {
   "display_name": "Python 3",
   "language": "python",
   "name": "python3"
  },
  "language_info": {
   "codemirror_mode": {
    "name": "ipython",
    "version": 3
   },
   "file_extension": ".py",
   "mimetype": "text/x-python",
   "name": "python",
   "nbconvert_exporter": "python",
   "pygments_lexer": "ipython3",
   "version": "3.6.3"
  }
 },
 "nbformat": 4,
 "nbformat_minor": 2
}
