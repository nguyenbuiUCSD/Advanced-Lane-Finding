{
 "cells": [
  {
   "cell_type": "code",
   "execution_count": null,
   "metadata": {},
   "outputs": [],
   "source": [
    "from camera import Camera\n",
    "import numpy as np\n",
    "import cv2\n",
    "import os\n",
    "import matplotlib.pyplot as plt\n",
    "import matplotlib.image as mpimg\n",
    "%matplotlib inline"
   ]
  },
  {
   "cell_type": "code",
   "execution_count": null,
   "metadata": {},
   "outputs": [],
   "source": [
    "cam = Camera(\"camera1\")\n",
    "if cam.is_calibrated == False:\n",
    "    cam.calibrate_and_draw(\"camera_cal/\", 9, 6)\n",
    "image_top_left = (595,448)\n",
    "image_top_right = (685,448)\n",
    "image_bottom_left = (252, 678)\n",
    "image_bottom_right = (1054,678)\n",
    "\n",
    "birdeye_top_left = (400,20)\n",
    "birdeye_top_right = (890,20)\n",
    "birdeye_bottom_left = (400, 700)\n",
    "birdeye_bottom_right = (890,700)\n",
    "\n",
    "src = np.float32([top_left,bottom_left,top_right,bottom_right])\n",
    "dst = np.float32([birdeye_top_left,birdeye_bottom_left,birdeye_top_right,birdeye_bottom_right])\n",
    "\n",
    "cam.set_perspective_transform(src,dst)"
   ]
  }
 ],
 "metadata": {
  "kernelspec": {
   "display_name": "Python 3",
   "language": "python",
   "name": "python3"
  },
  "language_info": {
   "codemirror_mode": {
    "name": "ipython",
    "version": 3
   },
   "file_extension": ".py",
   "mimetype": "text/x-python",
   "name": "python",
   "nbconvert_exporter": "python",
   "pygments_lexer": "ipython3",
   "version": "3.6.3"
  }
 },
 "nbformat": 4,
 "nbformat_minor": 2
}
